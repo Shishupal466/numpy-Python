{
 "cells": [
  {
   "cell_type": "code",
   "execution_count": 1,
   "id": "7be33c7d-1413-4e4b-b90a-1ba109a16b88",
   "metadata": {},
   "outputs": [],
   "source": [
    "import numpy as np"
   ]
  },
  {
   "cell_type": "raw",
   "id": "9f3b362d-88f7-4a4e-a1fa-77023fcf2d2f",
   "metadata": {},
   "source": [
    "print(\"hello\")\n"
   ]
  },
  {
   "cell_type": "code",
   "execution_count": 2,
   "id": "a4c19d78-237f-4357-9b67-3e4334d7b8b3",
   "metadata": {},
   "outputs": [
    {
     "name": "stdout",
     "output_type": "stream",
     "text": [
      "[1 2 3 4]\n"
     ]
    }
   ],
   "source": [
    "arr = np.array([1,2,3,4])\n",
    "print(arr)"
   ]
  },
  {
   "cell_type": "code",
   "execution_count": 3,
   "id": "2366c971-7af0-41b8-ae57-fe5b3ce0df91",
   "metadata": {},
   "outputs": [
    {
     "name": "stdout",
     "output_type": "stream",
     "text": [
      "Hello\n"
     ]
    }
   ],
   "source": [
    "print(\"Hello\")"
   ]
  },
  {
   "cell_type": "markdown",
   "id": "ecb26ae8-3a9b-45e2-b243-ec5348cf6d3c",
   "metadata": {},
   "source": [
    "# Conversion "
   ]
  },
  {
   "cell_type": "code",
   "execution_count": 6,
   "id": "600faa01-1005-4000-be63-bfcce8a43f7e",
   "metadata": {},
   "outputs": [],
   "source": [
    "zero = np.zeros((2,5))"
   ]
  },
  {
   "cell_type": "code",
   "execution_count": 7,
   "id": "81a65fba-553e-477e-8142-2b4c5ee795da",
   "metadata": {},
   "outputs": [
    {
     "data": {
      "text/plain": [
       "array([[0., 0., 0., 0., 0.],\n",
       "       [0., 0., 0., 0., 0.]])"
      ]
     },
     "execution_count": 7,
     "metadata": {},
     "output_type": "execute_result"
    }
   ],
   "source": [
    "zero"
   ]
  },
  {
   "cell_type": "code",
   "execution_count": 8,
   "id": "b982d2af-e0d5-4e6a-95fa-c6a889e80538",
   "metadata": {},
   "outputs": [
    {
     "data": {
      "text/plain": [
       "dtype('float64')"
      ]
     },
     "execution_count": 8,
     "metadata": {},
     "output_type": "execute_result"
    }
   ],
   "source": [
    "zero.dtype\n"
   ]
  },
  {
   "cell_type": "code",
   "execution_count": 10,
   "id": "f8f58184-61d4-418c-945b-267c8b707b01",
   "metadata": {},
   "outputs": [
    {
     "ename": "TypeError",
     "evalue": "'numpy.dtypes.Float64DType' object is not callable",
     "output_type": "error",
     "traceback": [
      "\u001b[1;31m---------------------------------------------------------------------------\u001b[0m",
      "\u001b[1;31mTypeError\u001b[0m                                 Traceback (most recent call last)",
      "Cell \u001b[1;32mIn[10], line 1\u001b[0m\n\u001b[1;32m----> 1\u001b[0m \u001b[43mzero\u001b[49m\u001b[38;5;241;43m.\u001b[39;49m\u001b[43mdtype\u001b[49m\u001b[43m(\u001b[49m\u001b[38;5;28;43mint\u001b[39;49m\u001b[43m)\u001b[49m\n",
      "\u001b[1;31mTypeError\u001b[0m: 'numpy.dtypes.Float64DType' object is not callable"
     ]
    }
   ],
   "source": [
    "zero.dtype(int)"
   ]
  },
  {
   "cell_type": "code",
   "execution_count": null,
   "id": "85ae9842-5c98-4173-ab6b-c762d686f188",
   "metadata": {},
   "outputs": [],
   "source": []
  }
 ],
 "metadata": {
  "kernelspec": {
   "display_name": "Python 3 (ipykernel)",
   "language": "python",
   "name": "python3"
  },
  "language_info": {
   "codemirror_mode": {
    "name": "ipython",
    "version": 3
   },
   "file_extension": ".py",
   "mimetype": "text/x-python",
   "name": "python",
   "nbconvert_exporter": "python",
   "pygments_lexer": "ipython3",
   "version": "3.13.0"
  }
 },
 "nbformat": 4,
 "nbformat_minor": 5
}
